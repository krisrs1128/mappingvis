{
 "cells": [
  {
   "cell_type": "code",
   "execution_count": null,
   "metadata": {},
   "outputs": [],
   "source": [
    "from addict import Dict\n",
    "from pathlib import Path\n",
    "import numpy as np\n",
    "\n",
    "data_dir = Path(\"/datadrive/glaciers/mappingvis/\")\n",
    "process_dir = data_dir / \"processed\"\n",
    "\n",
    "args = Dict({\n",
    "    \"batch_size\": 12,\n",
    "    \"epochs\": 200,\n",
    "    \"lr\": 0.0001,\n",
    "    \"device\": \"cuda:0\"\n",
    "})"
   ]
  },
  {
   "cell_type": "code",
   "execution_count": null,
   "metadata": {},
   "outputs": [],
   "source": [
    "from data import fetch_loaders\n",
    "\n",
    "paths = {}\n",
    "for split in [\"train\", \"val\"]:\n",
    "    paths[split] = {}\n",
    "    for v in [\"x\", \"y\"]:\n",
    "        paths[split][v] = list(process_dir.glob(v + \"*\"))\n",
    "        paths[split][v].sort()\n",
    "\n",
    "loaders = fetch_loaders(paths, batch_size=args.batch_size, shuffle=True)"
   ]
  },
  {
   "cell_type": "code",
   "execution_count": null,
   "metadata": {},
   "outputs": [],
   "source": [
    "import matplotlib.pyplot as plt\n",
    "%matplotlib inline\n",
    "\n",
    "def plot_ims(x, y, N=3, channels = [2, 4, 5]):\n",
    "    for i in range(N):\n",
    "        xi = np.transpose(x[i, channels, :, :], (1, 2, 0))\n",
    "        yi = np.transpose(y[i, [1, 1, 0], :, :], (1, 2, 0))\n",
    "        fig, axes = plt.subplots(nrows=1, ncols=2, figsize=(8, 5))\n",
    "        [axes[j].xaxis.set_visible(False) for j in [0, 1]]\n",
    "        [axes[j].yaxis.set_visible(False) for j in [0, 1]]\n",
    "        axes[0].imshow(0.5 * (1 - xi))\n",
    "        axes[1].imshow(yi, alpha=0.5)\n",
    "        plt.show()"
   ]
  },
  {
   "cell_type": "code",
   "execution_count": null,
   "metadata": {},
   "outputs": [],
   "source": [
    "x, y = next(iter(loaders[\"train\"]))\n",
    "plot_ims(x, y)\n",
    "plot_ims(x, y, channels=[11, 11, 11]) # elevation"
   ]
  },
  {
   "cell_type": "code",
   "execution_count": null,
   "metadata": {},
   "outputs": [],
   "source": [
    "import torch.optim\n",
    "from unet import Unet\n",
    "from train import train_epoch\n",
    "\n",
    "model = Unet(13, 3, 4, dropout=0.2).to(args.device)\n",
    "optimizer = torch.optim.Adam(model.parameters(), lr=args.lr)\n",
    "\n",
    "for epoch in range(args.epochs):\n",
    "    train_epoch(model, loaders[\"train\"], optimizer, args.device, epoch)\n",
    "    \n",
    "torch.save(model.state_dict(), data_dir / \"model.pt\")"
   ]
  },
  {
   "cell_type": "code",
   "execution_count": null,
   "metadata": {},
   "outputs": [],
   "source": []
  }
 ],
 "metadata": {
  "kernelspec": {
   "display_name": "mappingvis",
   "language": "python",
   "name": "mappingvis"
  },
  "language_info": {
   "codemirror_mode": {
    "name": "ipython",
    "version": 3
   },
   "file_extension": ".py",
   "mimetype": "text/x-python",
   "name": "python",
   "nbconvert_exporter": "python",
   "pygments_lexer": "ipython3",
   "version": "3.7.0"
  }
 },
 "nbformat": 4,
 "nbformat_minor": 4
}
