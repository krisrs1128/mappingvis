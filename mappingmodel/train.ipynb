{
 "cells": [
  {
   "cell_type": "code",
   "execution_count": null,
   "metadata": {},
   "outputs": [],
   "source": [
    "import urllib.request\n",
    "import tarfile\n",
    "from pathlib import Path\n",
    "from data import create_dir\n",
    "import os\n",
    "\n",
    "# setup directory structure for download\n",
    "data_dir = Path(os.environ[\"DATA_DIR\"])\n",
    "process_dir = data_dir / \"processed\"\n",
    "create_dir(process_dir)\n",
    "\n",
    "# get the data\n",
    "urllib.request.urlretrieve(\"https://uwmadison.box.com/shared/static/d54agxzb5g8ivr7hkac8nygqd6nrgrqr.gz\", process_dir / \"train.tar.gz\")\n",
    "tar = tarfile.open(process_dir / \"train.tar.gz\")\n",
    "tar.extractall(process_dir)\n",
    "tar.close()"
   ]
  },
  {
   "cell_type": "code",
   "execution_count": null,
   "metadata": {},
   "outputs": [],
   "source": [
    "from addict import Dict\n",
    "\n",
    "args = Dict({\n",
    "    \"batch_size\": 12,\n",
    "    \"epochs\": 50,\n",
    "    \"lr\": 0.0001,\n",
    "    \"device\": \"cpu\" # set to \"cuda\" if GPU is available\n",
    "})"
   ]
  },
  {
   "cell_type": "code",
   "execution_count": null,
   "metadata": {},
   "outputs": [],
   "source": [
    "from data import GlacierDataset\n",
    "from torch.utils.data import DataLoader\n",
    "\n",
    "paths = {\n",
    "    \"x\": list((process_dir / \"train\").glob(\"x*\")),\n",
    "    \"y\": list((process_dir / \"train\").glob(\"y*\"))\n",
    "}\n",
    "\n",
    "ds = GlacierDataset(paths[\"x\"], paths[\"y\"])\n",
    "loader = DataLoader(ds, batch_size=args.batch_size, shuffle=True)"
   ]
  },
  {
   "cell_type": "code",
   "execution_count": null,
   "metadata": {},
   "outputs": [],
   "source": [
    "import torch.optim\n",
    "from unet import Unet\n",
    "from train import train_epoch\n",
    "\n",
    "model = Unet(13, 3, 4, dropout=0.2).to(args.device)\n",
    "optimizer = torch.optim.Adam(model.parameters(), lr=args.lr)\n",
    "\n",
    "for epoch in range(args.epochs):\n",
    "    train_epoch(model, loader, optimizer, args.device, epoch)\n",
    "    \n",
    "torch.save(model.state_dict(), data_dir / \"model.pt\")"
   ]
  },
  {
   "cell_type": "code",
   "execution_count": null,
   "metadata": {},
   "outputs": [],
   "source": []
  }
 ],
 "metadata": {
  "kernelspec": {
   "display_name": "mappingvis",
   "language": "python",
   "name": "mappingvis"
  },
  "language_info": {
   "codemirror_mode": {
    "name": "ipython",
    "version": 3
   },
   "file_extension": ".py",
   "mimetype": "text/x-python",
   "name": "python",
   "nbconvert_exporter": "python",
   "pygments_lexer": "ipython3",
   "version": "3.8.6"
  }
 },
 "nbformat": 4,
 "nbformat_minor": 4
}
