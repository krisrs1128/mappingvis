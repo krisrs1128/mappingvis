{
 "cells": [
  {
   "cell_type": "code",
   "execution_count": null,
   "metadata": {},
   "outputs": [],
   "source": [
    "from addict import Dict\n",
    "from pathlib import Path\n",
    "import numpy as np\n",
    "\n",
    "#data_dir = Path(\"/datadrive/glaciers/mappingvis/\")\n",
    "data_dir = Path(\"/data/\")\n",
    "process_dir = data_dir / \"processed\"\n",
    "\n",
    "args = Dict({\n",
    "    \"batch_size\": 12,\n",
    "    \"epochs\": 200,\n",
    "    \"lr\": 0.0001,\n",
    "    \"device\": \"cuda:0\"\n",
    "})"
   ]
  },
  {
   "cell_type": "code",
   "execution_count": null,
   "metadata": {},
   "outputs": [],
   "source": [
    "from data import GlacierDataset\n",
    "\n",
    "paths = {\n",
    "    \"x\" = list((process_dir / split).glob(\"x*\")),\n",
    "    \"y\" = list((process_dir / split).glob(\"y*\"))\n",
    "}\n",
    "\n",
    "ds = GlacierDataset(paths[\"x\"], paths[\"y\"])\n",
    "loader = DataLoader(ds, batch_size=batch_size, shuffle=True)"
   ]
  },
  {
   "cell_type": "code",
   "execution_count": null,
   "metadata": {},
   "outputs": [],
   "source": [
    "import matplotlib.pyplot as plt\n",
    "%matplotlib inline\n",
    "\n",
    "x, y = next(iter(loader))\n",
    "plot_ims(x, y, rev=True)\n",
    "plot_ims(x, y, channels=[11, 11, 11]) # elevation"
   ]
  },
  {
   "cell_type": "code",
   "execution_count": null,
   "metadata": {},
   "outputs": [],
   "source": [
    "import torch.optim\n",
    "from unet import Unet\n",
    "from train import train_epoch\n",
    "\n",
    "model = Unet(13, 3, 4, dropout=0.2).to(args.device)\n",
    "optimizer = torch.optim.Adam(model.parameters(), lr=args.lr)\n",
    "\n",
    "for epoch in range(args.epochs):\n",
    "    train_epoch(model, loader, optimizer, args.device, epoch)\n",
    "    \n",
    "torch.save(model.state_dict(), data_dir / \"model.pt\")"
   ]
  },
  {
   "cell_type": "code",
   "execution_count": null,
   "metadata": {},
   "outputs": [],
   "source": []
  }
 ],
 "metadata": {
  "kernelspec": {
   "display_name": "mappingvis",
   "language": "python",
   "name": "mappingvis"
  },
  "language_info": {
   "codemirror_mode": {
    "name": "ipython",
    "version": 3
   },
   "file_extension": ".py",
   "mimetype": "text/x-python",
   "name": "python",
   "nbconvert_exporter": "python",
   "pygments_lexer": "ipython3",
   "version": "3.7.0"
  }
 },
 "nbformat": 4,
 "nbformat_minor": 4
}
