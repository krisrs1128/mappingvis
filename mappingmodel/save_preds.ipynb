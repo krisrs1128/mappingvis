{
 "cells": [
  {
   "cell_type": "code",
   "execution_count": null,
   "metadata": {},
   "outputs": [],
   "source": [
    "from addict import Dict\n",
    "from pathlib import Path\n",
    "import numpy as np\n",
    "\n",
    "data_dir = Path(\"/datadrive/glaciers/mappingvis/\")\n",
    "process_dir = data_dir / \"processed\"\n",
    "args = Dict({\n",
    "    \"device\": \"cuda\",\n",
    "    \"out_dir\": data_dir / \"preds\"\n",
    "})\n",
    "\n",
    "if args.out_dir.exists():\n",
    "    shutil.rmtree(args.out_dir)\n",
    "    \n",
    "args.out_dir.mkdir()"
   ]
  },
  {
   "cell_type": "code",
   "execution_count": null,
   "metadata": {},
   "outputs": [],
   "source": [
    "import torch\n",
    "from unet import Unet\n",
    "\n",
    "state = torch.load(data_dir / \"model.pt\")\n",
    "model = Unet(13, 3, 4).to(args.device)\n",
    "model.load_state_dict(state)\n",
    "model.eval()"
   ]
  },
  {
   "cell_type": "code",
   "execution_count": null,
   "metadata": {},
   "outputs": [],
   "source": [
    "from data import GlacierDataset\n",
    "from torch.utils.data import DataLoader\n",
    "\n",
    "paths = {}\n",
    "for v in [\"x\", \"y\"]:\n",
    "    paths[v] = list(process_dir.glob(v + \"*\"))\n",
    "    paths[v].sort()\n",
    "\n",
    "ds = GlacierDataset(paths[\"x\"], paths[\"y\"])"
   ]
  },
  {
   "cell_type": "code",
   "execution_count": null,
   "metadata": {},
   "outputs": [],
   "source": [
    "import re\n",
    "\n",
    "for i in range(len(ds)):\n",
    "    x, y = ds[i]\n",
    "    ix = re.search(\"[0-9]+\", str(ds.x_paths[i])).group(0)\n",
    "    print(f\"saving {i + 1}/{len(ds)}...\", end=\"\\r\", flush=True)\n",
    "\n",
    "    with torch.no_grad():\n",
    "        y_hat = model(x.unsqueeze(0).to(args.device))\n",
    "        y_hat = y_hat.cpu()\n",
    "        np.save(args.out_dir / f\"y_hat-{i}.npy\", y_hat[0])\n",
    "        np.save(args.out_dir / f\"y-{i}.npy\", x)\n",
    "        np.save(args.out_dir / f\"x-{i}.npy\", y)    "
   ]
  },
  {
   "cell_type": "code",
   "execution_count": null,
   "metadata": {},
   "outputs": [],
   "source": []
  }
 ],
 "metadata": {
  "kernelspec": {
   "display_name": "mappingvis",
   "language": "python",
   "name": "mappingvis"
  },
  "language_info": {
   "codemirror_mode": {
    "name": "ipython",
    "version": 3
   },
   "file_extension": ".py",
   "mimetype": "text/x-python",
   "name": "python",
   "nbconvert_exporter": "python",
   "pygments_lexer": "ipython3",
   "version": "3.7.0"
  }
 },
 "nbformat": 4,
 "nbformat_minor": 4
}
