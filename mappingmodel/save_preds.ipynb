{
 "cells": [
  {
   "cell_type": "code",
   "execution_count": null,
   "metadata": {},
   "outputs": [],
   "source": [
    "from addict import Dict\n",
    "from pathlib import Path\n",
    "from data import \n",
    "import numpy as np\n",
    "import os\n",
    "\n",
    "data_dir = os.environ[\"DATA_DIR\"]\n",
    "process_dir = data_dir / \"processed\"\n",
    "args = Dict({\n",
    "    \"device\": \"cpu\", # set to \"cuda\" if gpu is available\n",
    "    \"out_dir\": data_dir / \"predictions\"\n",
    "})"
   ]
  },
  {
   "cell_type": "code",
   "execution_count": null,
   "metadata": {},
   "outputs": [],
   "source": [
    "import torch\n",
    "from unet import Unet\n",
    "\n",
    "state = torch.load(data_dir / \"model.pt\", map_location=args.device)\n",
    "model = Unet(13, 3, 4).to(args.device)\n",
    "model.load_state_dict(state)\n",
    "model = model.eval()"
   ]
  },
  {
   "cell_type": "code",
   "execution_count": null,
   "metadata": {},
   "outputs": [],
   "source": [
    "from data import GlacierDataset\n",
    "from torch.utils.data import DataLoader\n",
    "\n",
    "paths = {}\n",
    "for split in [\"train\", \"test\"]:\n",
    "    paths[split] = {}\n",
    "    for v in [\"x\", \"y\"]:\n",
    "        paths[split][v] = list((process_dir / split).glob(v + \"*\"))\n",
    "        paths[split][v].sort()\n",
    "\n",
    "ds = {\n",
    "    \"train\": GlacierDataset(paths[\"train\"][\"x\"], paths[\"train\"][\"y\"]),\n",
    "    \"test\": GlacierDataset(paths[\"test\"][\"x\"], paths[\"test\"][\"y\"])\n",
    "}"
   ]
  },
  {
   "cell_type": "code",
   "execution_count": null,
   "metadata": {},
   "outputs": [],
   "source": [
    "from data import predictions\n",
    "\n",
    "predictions(model, ds[\"train\"], args.out_dir / \"train\", args.device)\n",
    "predictions(model, ds[\"test\"], args.out_dir / \"test\", args.device)"
   ]
  },
  {
   "cell_type": "code",
   "execution_count": null,
   "metadata": {},
   "outputs": [],
   "source": []
  }
 ],
 "metadata": {
  "kernelspec": {
   "display_name": "mappingvis",
   "language": "python",
   "name": "mappingvis"
  },
  "language_info": {
   "codemirror_mode": {
    "name": "ipython",
    "version": 3
   },
   "file_extension": ".py",
   "mimetype": "text/x-python",
   "name": "python",
   "nbconvert_exporter": "python",
   "pygments_lexer": "ipython3",
   "version": "3.8.6"
  }
 },
 "nbformat": 4,
 "nbformat_minor": 4
}
