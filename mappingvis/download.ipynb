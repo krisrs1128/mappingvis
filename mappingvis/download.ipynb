{
 "cells": [
  {
   "cell_type": "code",
   "execution_count": 26,
   "id": "approved-observer",
   "metadata": {},
   "outputs": [],
   "source": [
    "from dateutil.relativedelta import relativedelta\n",
    "import datetime\n",
    "import numpy as np\n",
    "import ee\n",
    "ee.Initialize()"
   ]
  },
  {
   "cell_type": "code",
   "execution_count": 66,
   "id": "prescription-circuit",
   "metadata": {},
   "outputs": [],
   "source": [
    "def define_image(image_id):\n",
    "    le7_bands = [f\"B{i}\" for i in range(1, 8)] + [\"B10\", \"B11\"]\n",
    "    im = ee.Image(f\"LANDSAT/LE07/C01/T1_SR/{image_id}\")\n",
    "    elevation = ee.Image('CGIAR/SRTM90_V4')\\\n",
    "      .select(\"elevation\")\n",
    "        \n",
    "    im = im.addBands(elevation)\\\n",
    "      .addBands(ee.Terrain.slope(elevation))\\\n",
    "      .toDouble()\\\n",
    "      .reproject(ee.Projection('EPSG:4326'), None, 30)\n",
    "    \n",
    "    date = im.getInfo()[\"properties\"][\"system:time_start\"]\n",
    "    date = datetime.datetime.fromtimestamp(date / 1000, datetime.timezone.utc)\n",
    "    if date >= datetime.datetime(2003, 5, 31, tzinfo=datetime.timezone.utc):\n",
    "        im = fill_image(im)\n",
    "\n",
    "    return im\n",
    "\n",
    "\n",
    "def fetch_list(l, folder_name=\"ee_export\", fnames=None):\n",
    "    if fnames is None:\n",
    "        fnames = [\"img\"] * l.size().getInfo()\n",
    "    \n",
    "    tasks = []\n",
    "    for i in range(l.size().getInfo()):\n",
    "        task = ee.batch.Export.image.toDrive(\n",
    "            ee.Image(l.get(i)),\n",
    "            fnames[i],\n",
    "            folder=folder_name\n",
    "        )\n",
    "        task.start()\n",
    "        tasks.append(task)\n",
    "    return tasks"
   ]
  },
  {
   "cell_type": "code",
   "execution_count": 76,
   "id": "level-huntington",
   "metadata": {},
   "outputs": [],
   "source": [
    "def fill_image(img):\n",
    "    fill = ee.ImageCollection(\"LANDSAT/LE07/C01/T1_SR\")\\\n",
    "             .filterDate(\"2000-01-01\", \"2000-12-31\")\\\n",
    "             .filter(ee.Filter.eq(\"WRS_ROW\", img.get(\"WRS_ROW\")))\\\n",
    "             .filter(ee.Filter.eq(\"WRS_PATH\", img.get(\"WRS_PATH\")))\n",
    "    return ee.Image(fill.sort(\"CLOUD_COVER\").first()).toDouble()\n",
    "                     \n",
    "    \n",
    "def gapfill(source, fill, kernel_size = 10, upscale = True):\n",
    "    min_scale, max_scale = 1/3, 3\n",
    "    min_neighbours = 64\n",
    "    # Apply the USGS L7 Phase-2 Gap filling protocol, using a single kernel size.\n",
    "    kernel = ee.Kernel.square(kernel_size * 30, \"meters\", False)\n",
    "    # Find the pixels common to both scenes.\n",
    "    common = source.mask().And(fill.mask())\n",
    "    fc = fill.updateMask(common)\n",
    "    sc = source.updateMask(common)\n",
    "    # Find the primary scaling factors with a regression.\n",
    "    # Interleave the bands for the regression.  This assumes the bands have the same names.\n",
    "    regress = fc.addBands(sc)\n",
    "    regress = regress.select(regress.bandNames().sort())\n",
    "    ratio = 5\n",
    "    if upscale:\n",
    "        fit = regress.reduceResolution(ee.Reducer.median(), False, 500).reproject(regress.select(0).projection().scale(ratio, ratio)).reduceNeighborhood(ee.Reducer.linearFit().forEach(source.bandNames()), kernel, \"kernel\", False).unmask().reproject(regress.select(0).projection().scale(ratio, ratio))\n",
    "    else:\n",
    "        fit = regress.reduceNeighborhood(ee.Reducer.linearFit().forEach(source.bandNames()), kernel, \"kernel\", False)\n",
    "    offset = fit.select(\".*_offset\")\n",
    "    scale = fit.select(\".*_scale\")\n",
    "    # Find the secondary scaling factors using just means and stddev\n",
    "    reducer = ee.Reducer.mean().combine(ee.Reducer.stdDev(), \"\", True)\n",
    "    if upscale:\n",
    "        src_stats = source.reduceResolution(ee.Reducer.median(), False, 500).reproject(regress.select(0).projection().scale(ratio, ratio)).reduceNeighborhood(reducer, kernel, \"kernel\", False).reproject(regress.select(0).projection().scale(ratio, ratio))\n",
    "        fill_stats = fill.reduceResolution(ee.Reducer.median(), False, 500).reproject(regress.select(0).projection().scale(ratio, ratio)).reduceNeighborhood(reducer, kernel, \"kernel\", False).reproject(regress.select(0).projection().scale(ratio, ratio))\n",
    "    else:\n",
    "        src_stats = source.reduceNeighborhood(reducer, kernel, \"kernel\", False)\n",
    "        fill_stats = fill.reduceNeighborhood(reducer, kernel, \"kernel\", False)\n",
    "    scale2 = src_stats.select(\".*stdDev\").divide(fill_stats.select(\".*stdDev\"))\n",
    "    offset2 = src_stats.select(\".*mean\").subtract(fill_stats.select(\".*mean\").multiply(scale2))\n",
    "    invalid = scale.lt(min_scale).Or(scale.gt(max_scale))\n",
    "    scale = scale.where(invalid, scale2)\n",
    "    offset = offset.where(invalid, offset2)\n",
    "    # When all else fails, just use the difference of means as an offset.\n",
    "    invalid2 = scale.lt(min_scale).Or(scale.gt(max_scale))\n",
    "    scale = scale.where(invalid2, 1)\n",
    "    offset = offset.where(invalid2, src_stats.select(\".*mean\").subtract(fill_stats.select(\".*mean\")))\n",
    "    # Apply the scaling and mask off pixels that didn\"t have enough neighbors.\n",
    "    count = common.reduceNeighborhood(ee.Reducer.count(), kernel, \"kernel\", True)\n",
    "    scaled = fill.multiply(scale).add(offset).updateMask(count.gte(min_neighbours))\n",
    "    return source.unmask(scaled, True)"
   ]
  },
  {
   "cell_type": "code",
   "execution_count": 77,
   "id": "liable-wagon",
   "metadata": {},
   "outputs": [],
   "source": [
    "img_ids =[\n",
    "    \"LE07_152033_20060731\",\n",
    "    \"LE07_152034_20060731\",\n",
    "    \"LE07_152035_20060917\",\n",
    "    \"LE07_153036_20060924\",\n",
    "    \"LE07_151035_20060708\",\n",
    "    \"LE07_151034_20050822\",\n",
    "    \"LE07_150036_20050916\",\n",
    "    \"LE07_150035_20050916\",\n",
    "    \"LE07_150034_20050916\",\n",
    "    \"LE07_149037_20041024\",\n",
    "    \"LE07_149036_20071102\",\n",
    "    \"LE07_149035_20070915\",\n",
    "    \"LE07_149034_20060726\",\n",
    "    \"LE07_148037_20071127\",\n",
    "    \"LE07_148036_20050902\",\n",
    "    \"LE07_148035_20061108\",\n",
    "    \"LE07_147038_20040908\",\n",
    "    \"LE07_147037_20060930\",\n",
    "    \"LE07_147036_20060930\",\n",
    "    \"LE07_147035_20050826\",\n",
    "    \"LE07_146037_20071231\",\n",
    "    \"LE07_146036_20090814\",\n",
    "    \"LE07_146039_20051123\",\n",
    "    \"LE07_146038_20060923\",\n",
    "    \"LE07_145039_20011020\",\n",
    "    \"LE07_144039_20011013\",\n",
    "    \"LE07_143039_20081212\",\n",
    "    \"LE07_143040_20051017\",\n",
    "    \"LE07_140041_20071221\",\n",
    "    \"LE07_139041_20071214\",\n",
    "    \"LE07_138041_20071223\",\n",
    "    \"LE07_137041_20060127\",\n",
    "    \"LE07_136041_20060731\",\n",
    "    \"LE07_136040_20081109\",\n",
    "    \"LE07_135040_20081204\",\n",
    "    \"LE07_134040_20090927\"\n",
    "]"
   ]
  },
  {
   "cell_type": "code",
   "execution_count": 78,
   "id": "funded-seminar",
   "metadata": {},
   "outputs": [],
   "source": [
    "img_list = ee.List([])\n",
    "for im in img_list:\n",
    "    img_list = img_list.add(define_image(im))\n",
    "    \n",
    "tasks = fetch_list(img_list, \"glacier_images\", img_ids)"
   ]
  },
  {
   "cell_type": "code",
   "execution_count": 79,
   "id": "corporate-belgium",
   "metadata": {},
   "outputs": [
    {
     "data": {
      "text/plain": [
       "{'state': 'READY',\n",
       " 'description': 'LE07_152033_20060731',\n",
       " 'creation_timestamp_ms': 1620254986383,\n",
       " 'update_timestamp_ms': 1620254986383,\n",
       " 'start_timestamp_ms': 0,\n",
       " 'task_type': 'EXPORT_IMAGE',\n",
       " 'id': 'OQCNBMEAXQ5Q2QIXAROSAOBX',\n",
       " 'name': 'projects/earthengine-legacy/operations/OQCNBMEAXQ5Q2QIXAROSAOBX'}"
      ]
     },
     "execution_count": 79,
     "metadata": {},
     "output_type": "execute_result"
    }
   ],
   "source": [
    "tasks[0].status()"
   ]
  },
  {
   "cell_type": "code",
   "execution_count": null,
   "id": "registered-accuracy",
   "metadata": {},
   "outputs": [],
   "source": []
  }
 ],
 "metadata": {
  "kernelspec": {
   "display_name": "Python [conda env:mappingvis] *",
   "language": "python",
   "name": "conda-env-mappingvis-py"
  },
  "language_info": {
   "codemirror_mode": {
    "name": "ipython",
    "version": 3
   },
   "file_extension": ".py",
   "mimetype": "text/x-python",
   "name": "python",
   "nbconvert_exporter": "python",
   "pygments_lexer": "ipython3",
   "version": "3.8.5"
  }
 },
 "nbformat": 4,
 "nbformat_minor": 5
}
